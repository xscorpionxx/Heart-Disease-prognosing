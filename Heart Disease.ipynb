{
 "cells": [
  {
   "cell_type": "code",
   "execution_count": null,
   "id": "e95b16a3",
   "metadata": {},
   "outputs": [],
   "source": [
    "import pandas as pd\n",
    "import numpy as np\n",
    "import seaborn as sn \n",
    "import matplotlib.pyplot as plt\n",
    "import scipy.stats as sc\n",
    "import wquantiles as wq\n",
    "from statsmodels import robust\n",
    "from sklearn.linear_model import LogisticRegression\n",
    "from sklearn.model_selection import train_test_split\n",
    "from sklearn import datasets"
   ]
  },
  {
   "cell_type": "code",
   "execution_count": null,
   "id": "f7186f27",
   "metadata": {},
   "outputs": [],
   "source": [
    "data = pd.read_csv(r\"C:\\Users\\abd\\Downloads\\archieve\\heart_2020_cleaned.csv\")"
   ]
  },
  {
   "cell_type": "code",
   "execution_count": null,
   "id": "0c01408f",
   "metadata": {},
   "outputs": [],
   "source": [
    "data.head()"
   ]
  },
  {
   "cell_type": "markdown",
   "id": "31c8b293",
   "metadata": {},
   "source": [
    "# 1 Explore the data"
   ]
  },
  {
   "cell_type": "code",
   "execution_count": null,
   "id": "f1dae88b",
   "metadata": {
    "scrolled": true
   },
   "outputs": [],
   "source": [
    "data.dtypes"
   ]
  },
  {
   "cell_type": "code",
   "execution_count": null,
   "id": "01070053",
   "metadata": {},
   "outputs": [],
   "source": [
    "data.isna().sum()"
   ]
  },
  {
   "cell_type": "code",
   "execution_count": null,
   "id": "a1d2f462",
   "metadata": {},
   "outputs": [],
   "source": [
    "# 1 we will look at bmi"
   ]
  },
  {
   "cell_type": "code",
   "execution_count": null,
   "id": "2b814115",
   "metadata": {},
   "outputs": [],
   "source": [
    "#estimate location"
   ]
  },
  {
   "cell_type": "code",
   "execution_count": null,
   "id": "6fafe04e",
   "metadata": {},
   "outputs": [],
   "source": [
    "data.BMI.mean()"
   ]
  },
  {
   "cell_type": "code",
   "execution_count": null,
   "id": "8026e934",
   "metadata": {},
   "outputs": [],
   "source": [
    "sc.trim_mean(data.BMI , 0.1)"
   ]
  },
  {
   "cell_type": "code",
   "execution_count": null,
   "id": "b4c98203",
   "metadata": {},
   "outputs": [],
   "source": [
    "data.BMI.median()"
   ]
  },
  {
   "cell_type": "code",
   "execution_count": null,
   "id": "d865444c",
   "metadata": {},
   "outputs": [],
   "source": [
    "#step three variation"
   ]
  },
  {
   "cell_type": "code",
   "execution_count": null,
   "id": "936e072d",
   "metadata": {},
   "outputs": [],
   "source": [
    "data.BMI.mad()  "
   ]
  },
  {
   "cell_type": "code",
   "execution_count": null,
   "id": "b7cb64c1",
   "metadata": {},
   "outputs": [],
   "source": [
    "print(data.BMI.std())\n",
    "print(data.BMI.std()**2)"
   ]
  },
  {
   "cell_type": "code",
   "execution_count": null,
   "id": "fac5db0b",
   "metadata": {},
   "outputs": [],
   "source": [
    "#to compute median absoulte deviation\n",
    "robust.mad(data.BMI)"
   ]
  },
  {
   "cell_type": "code",
   "execution_count": null,
   "id": "a2c36da9",
   "metadata": {},
   "outputs": [],
   "source": [
    "#to compute range of the values\n",
    "data.BMI.max() - data.BMI.min()"
   ]
  },
  {
   "cell_type": "code",
   "execution_count": null,
   "id": "cb6751ec",
   "metadata": {},
   "outputs": [],
   "source": [
    "# to compute interquartile range (or IQR)\n",
    "data.BMI.quantile(0.75) - data.BMI.quantile(0.25)"
   ]
  },
  {
   "cell_type": "code",
   "execution_count": null,
   "id": "8af2d30f",
   "metadata": {},
   "outputs": [],
   "source": [
    "#Data Distribution"
   ]
  },
  {
   "cell_type": "code",
   "execution_count": null,
   "id": "13fb1a12",
   "metadata": {},
   "outputs": [],
   "source": [
    "# to show the quantiles\n",
    "data.BMI.quantile([0,0.01,0.05, 0.25, 0.5, 0.75, 0.95, 0.99,1])"
   ]
  },
  {
   "cell_type": "code",
   "execution_count": null,
   "id": "dfedc0cf",
   "metadata": {},
   "outputs": [],
   "source": [
    "data.BMI.plot.box()"
   ]
  },
  {
   "cell_type": "code",
   "execution_count": null,
   "id": "64d783bf",
   "metadata": {},
   "outputs": [],
   "source": [
    "# to show frequancy table\n",
    "pd.cut(data.BMI , 20).value_counts()"
   ]
  },
  {
   "cell_type": "code",
   "execution_count": null,
   "id": "9e056f4d",
   "metadata": {},
   "outputs": [],
   "source": [
    "#to show histogram plot\n",
    "data.BMI.hist(rwidth = 0.9 , bins=20)"
   ]
  },
  {
   "cell_type": "code",
   "execution_count": null,
   "id": "93900b3a",
   "metadata": {
    "scrolled": true
   },
   "outputs": [],
   "source": [
    "#to show histogram plot\n",
    "data.BMI.hist(rwidth = 0.9 , bins=[10 , 18.5 , 24.9 , 40, 100])"
   ]
  },
  {
   "cell_type": "code",
   "execution_count": null,
   "id": "8faab22c",
   "metadata": {},
   "outputs": [],
   "source": [
    "# to show density plot\n",
    "ax= data.BMI.plot.hist(density=True, rwidth = 0.9 , bins=[10 , 18.5 , 24.9 , 40, 100])\n",
    "data.BMI.plot.density(ax = ax)"
   ]
  },
  {
   "cell_type": "code",
   "execution_count": null,
   "id": "02e832e4",
   "metadata": {},
   "outputs": [],
   "source": [
    "# 2 smoking"
   ]
  },
  {
   "cell_type": "code",
   "execution_count": null,
   "id": "3c6a262a",
   "metadata": {},
   "outputs": [],
   "source": [
    "plt.bar(['yes','no'],[data.Smoking[data.Smoking==\"Yes\"].count() , data.Smoking[data.Smoking==\"No\"].count() ])"
   ]
  },
  {
   "cell_type": "code",
   "execution_count": null,
   "id": "916676e5",
   "metadata": {},
   "outputs": [],
   "source": [
    "#to show pie chart \n",
    "plt.pie([data.Smoking[data.Smoking==\"Yes\"].count() , data.Smoking[data.Smoking==\"No\"].count() ] ,labels=[\"yes\" , \"No\"]\n",
    "        ,autopct=\"%0.2f\")"
   ]
  },
  {
   "cell_type": "code",
   "execution_count": null,
   "id": "a3f3b151",
   "metadata": {},
   "outputs": [],
   "source": [
    "# the probapilities of being smoker and not smoker are like that\n",
    "pr = data.Smoking[data.Smoking== \"No\"].count() / data.Smoking.count()\n",
    "print(pr)\n",
    "pr1 = data.Smoking[data.Smoking== \"Yes\"].count() / data.Smoking.count()\n",
    "print(pr1)"
   ]
  },
  {
   "cell_type": "code",
   "execution_count": null,
   "id": "f9f1868f",
   "metadata": {},
   "outputs": [],
   "source": [
    "# 3 alcohol drinking"
   ]
  },
  {
   "cell_type": "code",
   "execution_count": null,
   "id": "42ad91a3",
   "metadata": {},
   "outputs": [],
   "source": [
    "plt.bar(['yes','no'],[data.AlcoholDrinking[data.AlcoholDrinking==\"Yes\"].count() , data.AlcoholDrinking[data.AlcoholDrinking==\"No\"].count() ])"
   ]
  },
  {
   "cell_type": "code",
   "execution_count": null,
   "id": "a7c5636b",
   "metadata": {},
   "outputs": [],
   "source": [
    "#to show pie chart \n",
    "plt.pie([data.AlcoholDrinking[data.AlcoholDrinking==\"Yes\"].count() , data.AlcoholDrinking[data.AlcoholDrinking==\"No\"].count() ] ,labels=[\"yes\" , \"No\"]\n",
    "        ,autopct=\"%0.2f\")"
   ]
  },
  {
   "cell_type": "code",
   "execution_count": null,
   "id": "a8f41250",
   "metadata": {},
   "outputs": [],
   "source": [
    "plt.bar(['Female','Male'],[data.Sex[data.Sex==\"Female\"].count() , data.Sex[data.Sex==\"Male\"].count() ])"
   ]
  },
  {
   "cell_type": "code",
   "execution_count": null,
   "id": "c8644776",
   "metadata": {},
   "outputs": [],
   "source": [
    "# 4 PhysicalHealth"
   ]
  },
  {
   "cell_type": "code",
   "execution_count": null,
   "id": "b35fecce",
   "metadata": {
    "scrolled": true
   },
   "outputs": [],
   "source": [
    "data.PhysicalHealth.unique()"
   ]
  },
  {
   "cell_type": "code",
   "execution_count": null,
   "id": "03e1a555",
   "metadata": {},
   "outputs": [],
   "source": [
    "plt.bar([str(i+1) for i in range(30)],[data.PhysicalHealth[data.PhysicalHealth==i+1].count() for i in range(30) ])"
   ]
  },
  {
   "cell_type": "code",
   "execution_count": null,
   "id": "920d0cc0",
   "metadata": {},
   "outputs": [],
   "source": [
    "# 5 mental health"
   ]
  },
  {
   "cell_type": "code",
   "execution_count": null,
   "id": "2f49452d",
   "metadata": {},
   "outputs": [],
   "source": [
    "data.MentalHealth.unique()"
   ]
  },
  {
   "cell_type": "code",
   "execution_count": null,
   "id": "b83e65dc",
   "metadata": {},
   "outputs": [],
   "source": [
    "plt.bar([str(i+1) for i in range(30)],[data.MentalHealth[data.MentalHealth==i+1].count() for i in range(30) ])"
   ]
  },
  {
   "cell_type": "code",
   "execution_count": null,
   "id": "d9cad704",
   "metadata": {},
   "outputs": [],
   "source": [
    "# 6 age cats"
   ]
  },
  {
   "cell_type": "code",
   "execution_count": null,
   "id": "53e893f6",
   "metadata": {},
   "outputs": [],
   "source": [
    "age_cats =np.array(data.AgeCategory.unique())"
   ]
  },
  {
   "cell_type": "code",
   "execution_count": null,
   "id": "1170c19a",
   "metadata": {
    "scrolled": true
   },
   "outputs": [],
   "source": [
    "list_of_cats = [str(i) for i in  range(len(list(data.AgeCategory.unique())))]"
   ]
  },
  {
   "cell_type": "code",
   "execution_count": null,
   "id": "22eefbf0",
   "metadata": {},
   "outputs": [],
   "source": [
    "plt.bar(list_of_cats,[data.AgeCategory[data.AgeCategory==i].count() for i in data.AgeCategory.unique()])"
   ]
  },
  {
   "cell_type": "code",
   "execution_count": null,
   "id": "f2033a97",
   "metadata": {},
   "outputs": [],
   "source": [
    "age_cats[6]"
   ]
  },
  {
   "cell_type": "code",
   "execution_count": null,
   "id": "99fc5b6f",
   "metadata": {},
   "outputs": [],
   "source": [
    "# 7 Race "
   ]
  },
  {
   "cell_type": "code",
   "execution_count": null,
   "id": "df1fa3b1",
   "metadata": {},
   "outputs": [],
   "source": [
    "data.Race.unique()"
   ]
  },
  {
   "cell_type": "code",
   "execution_count": null,
   "id": "5c0f2333",
   "metadata": {},
   "outputs": [],
   "source": [
    "for i in data.Race.unique() : \n",
    "    print(str(i)+ \":\" + str(data.Race[data.Race==i].count()))"
   ]
  },
  {
   "cell_type": "code",
   "execution_count": null,
   "id": "27f51d0b",
   "metadata": {},
   "outputs": [],
   "source": [
    "plt.bar([str(i) for i in  list(data.Race.unique())],[data.Race[data.Race==i].count() for i in data.Race.unique()])"
   ]
  },
  {
   "cell_type": "code",
   "execution_count": null,
   "id": "986bd33a",
   "metadata": {},
   "outputs": [],
   "source": [
    "# 8 diabetic "
   ]
  },
  {
   "cell_type": "code",
   "execution_count": null,
   "id": "7518ccd4",
   "metadata": {},
   "outputs": [],
   "source": [
    "data.Diabetic.unique()"
   ]
  },
  {
   "cell_type": "code",
   "execution_count": null,
   "id": "705a2117",
   "metadata": {},
   "outputs": [],
   "source": [
    "#to show pie chart \n",
    "fig = plt.figure(figsize =(15, 12))\n",
    "plt.pie([data.Diabetic[data.Diabetic==i].count() for i in data.Diabetic.unique() ] ,labels=[str(i) for i in  list(data.Diabetic.unique())]\n",
    "        ,autopct=\"%0.2f\")\n",
    "plt.show()"
   ]
  },
  {
   "cell_type": "code",
   "execution_count": null,
   "id": "f01e9364",
   "metadata": {},
   "outputs": [],
   "source": [
    "# 9 PhysicalActivity"
   ]
  },
  {
   "cell_type": "code",
   "execution_count": null,
   "id": "e0c0fe0d",
   "metadata": {},
   "outputs": [],
   "source": [
    "#to show pie chart \n",
    "fig = plt.figure(figsize =(8, 5))\n",
    "plt.pie([data.PhysicalActivity[data.PhysicalActivity==i].count() for i in data.PhysicalActivity.unique() ] ,labels=[str(i) for i in  list(data.PhysicalActivity.unique())]\n",
    "        ,autopct=\"%0.2f\")\n",
    "plt.show()"
   ]
  },
  {
   "cell_type": "code",
   "execution_count": null,
   "id": "f65cb15e",
   "metadata": {},
   "outputs": [],
   "source": [
    "# 10 ashma"
   ]
  },
  {
   "cell_type": "code",
   "execution_count": null,
   "id": "b3b557d8",
   "metadata": {},
   "outputs": [],
   "source": [
    "#to show pie chart \n",
    "fig = plt.figure(figsize =(8, 5))\n",
    "plt.pie([data.Asthma[data.Asthma==i].count() for i in data.Asthma.unique() ] \n",
    "        ,labels=[str(i) for i in  list(data.Asthma.unique())]\n",
    "        ,autopct=\"%0.2f\")\n",
    "plt.show()"
   ]
  },
  {
   "cell_type": "code",
   "execution_count": null,
   "id": "3c040f45",
   "metadata": {},
   "outputs": [],
   "source": [
    "# 11 kidneydisease"
   ]
  },
  {
   "cell_type": "code",
   "execution_count": null,
   "id": "4661562a",
   "metadata": {},
   "outputs": [],
   "source": [
    "#to show pie chart \n",
    "fig = plt.figure(figsize =(8, 5))\n",
    "plt.pie([data.KidneyDisease[data.KidneyDisease==i].count() for i in data.KidneyDisease.unique() ] \n",
    "        ,labels=[str(i) for i in  list(data.KidneyDisease.unique())]\n",
    "        ,autopct=\"%0.2f\")\n",
    "plt.show()"
   ]
  },
  {
   "cell_type": "code",
   "execution_count": null,
   "id": "10e86bbe",
   "metadata": {},
   "outputs": [],
   "source": [
    "# 12 Skin cancer"
   ]
  },
  {
   "cell_type": "code",
   "execution_count": null,
   "id": "2de6b1c4",
   "metadata": {},
   "outputs": [],
   "source": [
    "#to show pie chart \n",
    "fig = plt.figure(figsize =(8, 5))\n",
    "plt.pie([data.SkinCancer[data.SkinCancer==i].count() for i in data.SkinCancer.unique() ] \n",
    "        ,labels=[str(i) for i in  list(data.SkinCancer.unique())]\n",
    "        ,autopct=\"%0.2f\")\n",
    "plt.show()"
   ]
  },
  {
   "cell_type": "code",
   "execution_count": null,
   "id": "a058c115",
   "metadata": {},
   "outputs": [],
   "source": [
    "# 13 generalhealth"
   ]
  },
  {
   "cell_type": "code",
   "execution_count": null,
   "id": "5cc279a6",
   "metadata": {},
   "outputs": [],
   "source": [
    "#to show pie chart \n",
    "fig = plt.figure(figsize =(13, 9))\n",
    "plt.pie([data.GenHealth[data.GenHealth==i].count() for i in data.GenHealth.unique() ] \n",
    "        ,labels=[str(i) for i in  list(data.GenHealth.unique())]\n",
    "        ,autopct=\"%0.2f\")\n",
    "plt.show()"
   ]
  },
  {
   "cell_type": "code",
   "execution_count": null,
   "id": "3f09e6c0",
   "metadata": {
    "scrolled": true
   },
   "outputs": [],
   "source": [
    "plt.bar( [str(i) for i in  list(data.GenHealth.unique())],[data.GenHealth[data.GenHealth==i].count() for i in data.GenHealth.unique() ])"
   ]
  },
  {
   "cell_type": "markdown",
   "id": "2323c3ff",
   "metadata": {},
   "source": [
    "# then we will study the correlation between the attributes"
   ]
  },
  {
   "cell_type": "markdown",
   "id": "b2d30f1e",
   "metadata": {},
   "source": [
    "we should encode the attributes to study the correlation between them "
   ]
  },
  {
   "cell_type": "code",
   "execution_count": null,
   "id": "c50aa5c1",
   "metadata": {},
   "outputs": [],
   "source": [
    "replacement = {\"HeartDisease\" : {\"Yes\" : 1 , \"No\" : 0} ,\n",
    "                          \"Smoking\" : {\"Yes\" : 1 , \"No\" : 0} ,\n",
    "                           \"AlcoholDrinking\" :{\"Yes\" : 1 , \"No\" : 0} ,\n",
    "                           \"Stroke\" :{\"Yes\" : 1 , \"No\" : 0},\n",
    "                            \"PhysicalActivity\" : {\"Yes\" : 1 , \"No\" : 0},\n",
    "                           \"DiffWalking\" :{\"Yes\" : 1 , \"No\" : 0} ,\n",
    "                           \"KidneyDisease\" :{\"Yes\" : 1 , \"No\" : 0} ,\n",
    "                           \"SkinCancer\" : {\"Yes\" : 1 , \"No\" : 0} ,\n",
    "                           \"AgeCategory\" :{'18-24' : 1 , \n",
    "                                          '25-29' : 2 ,\n",
    "                                          '30-34' : 3 ,\n",
    "                                          '35-39' : 4 ,\n",
    "                                          '40-44' : 5 ,\n",
    "                                          '45-49' : 6 ,\n",
    "                                          '50-54' : 7 ,\n",
    "                                          '55-59' : 8 ,\n",
    "                                          '60-64' : 9 ,\n",
    "                                          '65-69' : 10,\n",
    "                                          '70-74' : 11,\n",
    "                                          '75-79' : 12,\n",
    "                                          '80 or older' : 13},\n",
    "                           \"Asthma\" : {\"Yes\" : 1 , \"No\" : 0} ,\n",
    "                           \"GenHealth\" :{'Excellent' : 5 ,\n",
    "                                        'Very good' : 4 ,\n",
    "                                        'Good': 3 ,\n",
    "                                        'Poor' : 2 ,\n",
    "                                        'Fair' : 1} ,\n",
    "                           \"Diabetic\" : { 'No' :  0 ,\n",
    "                                        'No, borderline diabetes':1 ,\n",
    "                                        'Yes (during pregnancy)': 2 ,\n",
    "                                        'Yes' : 3}\n",
    "                            }"
   ]
  },
  {
   "cell_type": "code",
   "execution_count": null,
   "id": "415c6e1c",
   "metadata": {},
   "outputs": [],
   "source": [
    "data= data.replace(replacement)"
   ]
  },
  {
   "cell_type": "markdown",
   "id": "23ba13d3",
   "metadata": {},
   "source": [
    "we canot encode the nominal categorical variables like this way so we should use one hot encoding "
   ]
  },
  {
   "cell_type": "code",
   "execution_count": null,
   "id": "f8e61885",
   "metadata": {},
   "outputs": [],
   "source": [
    "sexdummy = pd.get_dummies(data.Sex)"
   ]
  },
  {
   "cell_type": "code",
   "execution_count": null,
   "id": "f0ecb432",
   "metadata": {},
   "outputs": [],
   "source": [
    "data = pd.concat([data.drop(\"Sex\", axis=1),sexdummy ] ,axis='columns')"
   ]
  },
  {
   "cell_type": "code",
   "execution_count": null,
   "id": "097eddf9",
   "metadata": {},
   "outputs": [],
   "source": [
    "racedummy = pd.get_dummies(data.Race)"
   ]
  },
  {
   "cell_type": "code",
   "execution_count": null,
   "id": "ad54bb33",
   "metadata": {},
   "outputs": [],
   "source": [
    "data = pd.concat([data.drop(\"Race\", axis=1),racedummy ] ,axis='columns')"
   ]
  },
  {
   "cell_type": "code",
   "execution_count": null,
   "id": "d09d2019",
   "metadata": {},
   "outputs": [],
   "source": [
    "data.loc[0]"
   ]
  },
  {
   "cell_type": "markdown",
   "id": "7eea7a67",
   "metadata": {},
   "source": [
    "# 1 - we will start with BMI"
   ]
  },
  {
   "cell_type": "code",
   "execution_count": null,
   "id": "fdf8488a",
   "metadata": {},
   "outputs": [],
   "source": [
    "data.corr()['BMI']"
   ]
  },
  {
   "cell_type": "code",
   "execution_count": null,
   "id": "8c62b84b",
   "metadata": {},
   "outputs": [],
   "source": [
    "sn.heatmap(data[[\"BMI\" , \"HeartDisease\"]].corr(), vmin=-1, vmax=1,\n",
    "cmap=sn.diverging_palette(20, 220, as_cmap=True))"
   ]
  },
  {
   "cell_type": "code",
   "execution_count": null,
   "id": "ed4b33b9",
   "metadata": {
    "scrolled": true
   },
   "outputs": [],
   "source": [
    "plt.scatter(x= data.BMI , y = data.HeartDisease)"
   ]
  },
  {
   "cell_type": "code",
   "execution_count": null,
   "id": "a0fb5245",
   "metadata": {
    "scrolled": true
   },
   "outputs": [],
   "source": [
    "plt.hexbin(x=data.BMI, y=data.HeartDisease,\n",
    "gridsize=30)\n",
    "plt.colorbar()\n",
    "plt.show()"
   ]
  },
  {
   "cell_type": "code",
   "execution_count": null,
   "id": "4214e0c9",
   "metadata": {},
   "outputs": [],
   "source": [
    "diabetic_ = [0,1,2,3]\n",
    "databydiabtic = data[[\"BMI\" , \"HeartDisease\" , \"Diabetic\"]].loc[data.Diabetic.isin(diabetic_),:]\n",
    "def hexbin(x, y, color, **kwargs):\n",
    "    cmap = sn.light_palette(color, as_cmap=True)\n",
    "    plt.hexbin(x, y, gridsize=25, cmap=cmap, **kwargs)\n",
    "g = sn.FacetGrid(databydiabtic, col='Diabetic', col_wrap=2)\n",
    "g.map(hexbin, 'HeartDisease', 'BMI',)\n",
    "plt.colorbar()\n",
    "plt.show()"
   ]
  },
  {
   "cell_type": "code",
   "execution_count": null,
   "id": "9d2ccb8f",
   "metadata": {},
   "outputs": [],
   "source": [
    "corr0 =  data[data.Diabetic==0].BMI.corr(data[data.Diabetic==0].HeartDisease)\n",
    "corr1 =  data[data.Diabetic==1].BMI.corr(data[data.Diabetic==1].HeartDisease)\n",
    "corr2 =  data[data.Diabetic==2].BMI.corr(data[data.Diabetic==2].HeartDisease)\n",
    "corr3 =  data[data.Diabetic==3].BMI.corr(data[data.Diabetic==3].HeartDisease)"
   ]
  },
  {
   "cell_type": "markdown",
   "id": "04ca197d",
   "metadata": {},
   "source": [
    " # 2 - smoking"
   ]
  },
  {
   "cell_type": "code",
   "execution_count": null,
   "id": "d54c738a",
   "metadata": {},
   "outputs": [],
   "source": [
    "data.corr()['Smoking']"
   ]
  },
  {
   "cell_type": "code",
   "execution_count": null,
   "id": "2840996c",
   "metadata": {},
   "outputs": [],
   "source": [
    "data[[\"Smoking\" , \"HeartDisease\" ]].pivot_table(index='HeartDisease', columns=\"Smoking\",aggfunc=lambda x: len(x), margins=True)"
   ]
  },
  {
   "cell_type": "code",
   "execution_count": null,
   "id": "af3d6f08",
   "metadata": {},
   "outputs": [],
   "source": [
    "diffwalking_ = [0,1]\n",
    "databydiffwalking = data[[\"DiffWalking\" , \"HeartDisease\" , \"Smoking\"]].loc[data.DiffWalking.isin(diffwalking_),:]\n",
    "def hexbin(x, y, color, **kwargs):\n",
    "    cmap = sn.light_palette(color, as_cmap=True)\n",
    "    plt.hexbin(x, y, gridsize=25, cmap=cmap, **kwargs)\n",
    "g = sn.FacetGrid(databydiffwalking, col='DiffWalking', col_wrap=2)\n",
    "g.map(hexbin, 'HeartDisease', 'Smoking',)\n",
    "plt.colorbar()\n",
    "plt.show()"
   ]
  },
  {
   "cell_type": "code",
   "execution_count": null,
   "id": "02960b55",
   "metadata": {},
   "outputs": [],
   "source": [
    "corr0 =  data[data.DiffWalking==0].Smoking.corr(data[data.DiffWalking==0].HeartDisease)\n",
    "corr1 =  data[data.DiffWalking==1].Smoking.corr(data[data.DiffWalking==1].HeartDisease)\n",
    "print(corr0)\n",
    "print(corr1)"
   ]
  },
  {
   "cell_type": "markdown",
   "id": "33a7d512",
   "metadata": {},
   "source": [
    "# 3 - alcohol drinking"
   ]
  },
  {
   "cell_type": "code",
   "execution_count": null,
   "id": "67e73349",
   "metadata": {},
   "outputs": [],
   "source": [
    "data.corr()['AlcoholDrinking']"
   ]
  },
  {
   "cell_type": "markdown",
   "id": "a6fe06bb",
   "metadata": {},
   "source": [
    "# 4 - Stroke "
   ]
  },
  {
   "cell_type": "code",
   "execution_count": null,
   "id": "2adcacea",
   "metadata": {},
   "outputs": [],
   "source": [
    "data.corr()['Stroke']"
   ]
  },
  {
   "cell_type": "code",
   "execution_count": null,
   "id": "98456250",
   "metadata": {
    "scrolled": true
   },
   "outputs": [],
   "source": [
    "age_cats = [1,2,3,4,5,6,7,8,9,10,11,12,13]\n",
    "databyage = data.loc[data[['HeartDisease','Stroke' , 'AgeCategory']].AgeCategory.isin(age_cats),:]\n",
    "def hexbin(x, y, color, **kwargs):\n",
    "    cmap = sn.light_palette(color, as_cmap=True)\n",
    "    plt.hexbin(x, y, gridsize=25, cmap=cmap, **kwargs)\n",
    "g = sn.FacetGrid(databyage, col='AgeCategory', col_wrap=2)\n",
    "g.map(hexbin, 'HeartDisease', 'Stroke',)\n",
    "plt.colorbar()\n",
    "plt.show()"
   ]
  },
  {
   "cell_type": "markdown",
   "id": "647e44fc",
   "metadata": {},
   "source": [
    "# 5 - physical health"
   ]
  },
  {
   "cell_type": "code",
   "execution_count": null,
   "id": "07a69d82",
   "metadata": {},
   "outputs": [],
   "source": [
    "data.corr()['PhysicalHealth']"
   ]
  },
  {
   "cell_type": "markdown",
   "id": "16c6aa46",
   "metadata": {},
   "source": [
    "# 6 - mental health"
   ]
  },
  {
   "cell_type": "code",
   "execution_count": null,
   "id": "922883c0",
   "metadata": {},
   "outputs": [],
   "source": [
    "data.corr()['MentalHealth']"
   ]
  },
  {
   "cell_type": "markdown",
   "id": "74047702",
   "metadata": {},
   "source": [
    "# 7 - Diffwalking"
   ]
  },
  {
   "cell_type": "code",
   "execution_count": null,
   "id": "0f225ff9",
   "metadata": {},
   "outputs": [],
   "source": [
    "data.corr()['DiffWalking']"
   ]
  },
  {
   "cell_type": "markdown",
   "id": "466c8c7a",
   "metadata": {},
   "source": [
    "# 8 - Age categorey"
   ]
  },
  {
   "cell_type": "code",
   "execution_count": null,
   "id": "610797ad",
   "metadata": {},
   "outputs": [],
   "source": [
    "data.corr()['AgeCategory']"
   ]
  },
  {
   "cell_type": "code",
   "execution_count": null,
   "id": "efa9aac2",
   "metadata": {},
   "outputs": [],
   "source": [
    "data[[\"AgeCategory\" , \"HeartDisease\" ]].pivot_table(index='HeartDisease', columns=\"AgeCategory\",aggfunc=lambda x: len(x), margins=True)"
   ]
  },
  {
   "cell_type": "markdown",
   "id": "6d812c77",
   "metadata": {},
   "source": [
    "# 9 - Diabetic"
   ]
  },
  {
   "cell_type": "code",
   "execution_count": null,
   "id": "20ba33df",
   "metadata": {},
   "outputs": [],
   "source": [
    "data.corr()['Diabetic']"
   ]
  },
  {
   "cell_type": "code",
   "execution_count": null,
   "id": "d94344e7",
   "metadata": {},
   "outputs": [],
   "source": [
    "data[[\"Diabetic\" , \"HeartDisease\" ]].pivot_table(index='HeartDisease', columns=\"Diabetic\",aggfunc=lambda x: len(x), margins=True)"
   ]
  },
  {
   "cell_type": "code",
   "execution_count": null,
   "id": "57ede9ec",
   "metadata": {},
   "outputs": [],
   "source": [
    "age_cats = [1,2,3,4,5,6,7,8,9,10,11,12,13]\n",
    "databyage = data.loc[data[['HeartDisease','Diabetic' , 'AgeCategory']].AgeCategory.isin(age_cats),:]\n",
    "def hexbin(x, y, color, **kwargs):\n",
    "    cmap = sn.light_palette(color, as_cmap=True)\n",
    "    plt.hexbin(x, y, gridsize=25, cmap=cmap, **kwargs)\n",
    "g = sn.FacetGrid(databyage, col='AgeCategory', col_wrap=2)\n",
    "g.map(hexbin, 'HeartDisease', 'Diabetic',)\n",
    "plt.colorbar()\n",
    "plt.show()"
   ]
  },
  {
   "cell_type": "markdown",
   "id": "7aa42e83",
   "metadata": {},
   "source": [
    "# 10-  PhysicalActivity"
   ]
  },
  {
   "cell_type": "code",
   "execution_count": null,
   "id": "5e92e1d0",
   "metadata": {},
   "outputs": [],
   "source": [
    "data.corr()['PhysicalActivity']"
   ]
  },
  {
   "cell_type": "markdown",
   "id": "c0cec651",
   "metadata": {},
   "source": [
    "# 12 - GenHealth"
   ]
  },
  {
   "cell_type": "code",
   "execution_count": null,
   "id": "fa0f231c",
   "metadata": {},
   "outputs": [],
   "source": [
    "data.corr()['GenHealth']"
   ]
  },
  {
   "cell_type": "markdown",
   "id": "04405c77",
   "metadata": {},
   "source": [
    "# 13 - sleep time"
   ]
  },
  {
   "cell_type": "code",
   "execution_count": null,
   "id": "3c055544",
   "metadata": {},
   "outputs": [],
   "source": [
    "data.corr()['SleepTime']"
   ]
  },
  {
   "cell_type": "markdown",
   "id": "e9fe9822",
   "metadata": {},
   "source": [
    "# 14 - Asthma"
   ]
  },
  {
   "cell_type": "code",
   "execution_count": null,
   "id": "7e21d945",
   "metadata": {},
   "outputs": [],
   "source": [
    "data.corr()['Asthma']"
   ]
  },
  {
   "cell_type": "markdown",
   "id": "ee9fbf02",
   "metadata": {},
   "source": [
    "# 15 - kidneydisease"
   ]
  },
  {
   "cell_type": "code",
   "execution_count": null,
   "id": "510cef30",
   "metadata": {},
   "outputs": [],
   "source": [
    "data.corr()['KidneyDisease']"
   ]
  },
  {
   "cell_type": "code",
   "execution_count": null,
   "id": "6e329fd8",
   "metadata": {},
   "outputs": [],
   "source": [
    "data[[\"KidneyDisease\" , \"HeartDisease\" ]].pivot_table(index='HeartDisease', columns=\"KidneyDisease\",aggfunc=lambda x: len(x), margins=True)"
   ]
  },
  {
   "cell_type": "markdown",
   "id": "6e872b20",
   "metadata": {},
   "source": [
    "# 16 - skin cancer"
   ]
  },
  {
   "cell_type": "code",
   "execution_count": null,
   "id": "0ea52735",
   "metadata": {},
   "outputs": [],
   "source": [
    "data.corr()['SkinCancer']"
   ]
  },
  {
   "cell_type": "code",
   "execution_count": null,
   "id": "e2337866",
   "metadata": {},
   "outputs": [],
   "source": [
    "data[[\"HeartDisease\" , \"SkinCancer\" ]].pivot_table(index='HeartDisease', columns=\"SkinCancer\",aggfunc=lambda x: len(x), margins=True)"
   ]
  },
  {
   "cell_type": "markdown",
   "id": "7dd59665",
   "metadata": {},
   "source": [
    "# 17 - Sex"
   ]
  },
  {
   "cell_type": "code",
   "execution_count": null,
   "id": "a2c7ac6b",
   "metadata": {},
   "outputs": [],
   "source": [
    "print(data.HeartDisease.corr(data.Male))\n",
    "print(data.HeartDisease.corr(data.Female))"
   ]
  },
  {
   "cell_type": "code",
   "execution_count": null,
   "id": "9988b2e9",
   "metadata": {},
   "outputs": [],
   "source": [
    "print(data[(data.Male==1) & (data.HeartDisease==1)].Male.count()/data[data.Male==1].Male.count())\n",
    "print(data[(data.Female==1) & (data.HeartDisease==1)].Male.count()/data[data.Female==1].Male.count())"
   ]
  },
  {
   "cell_type": "markdown",
   "id": "0f0ec399",
   "metadata": {},
   "source": [
    "# 18 - Race"
   ]
  },
  {
   "cell_type": "code",
   "execution_count": null,
   "id": "846902c7",
   "metadata": {},
   "outputs": [],
   "source": [
    "print(\"american:\"  ,data['American Indian/Alaskan Native'].corr(data.HeartDisease))\n",
    "print(\"asian\" ,data.Asian.corr(data.HeartDisease))\n",
    "print(\"other\"  ,data.Other.corr(data.HeartDisease))\n",
    "print(\"white\"  ,data.White.corr(data.HeartDisease))\n",
    "print(\"black\"  ,data.Black.corr(data.HeartDisease))"
   ]
  },
  {
   "cell_type": "code",
   "execution_count": null,
   "id": "af353696",
   "metadata": {},
   "outputs": [],
   "source": [
    "data.corr()['HeartDisease']"
   ]
  },
  {
   "cell_type": "markdown",
   "id": "73b01488",
   "metadata": {},
   "source": [
    "# Abstract about what we found from the data : \n",
    "# 1- name and type of each attribute : \n",
    "HeartDisease         object\n",
    "BMI                 float64\n",
    "Smoking              object\n",
    "AlcoholDrinking      object\n",
    "Stroke               object\n",
    "PhysicalHealth      float64\n",
    "MentalHealth        float64\n",
    "DiffWalking          object\n",
    "Sex                  object\n",
    "AgeCategory          object\n",
    "Race                 object\n",
    "Diabetic             object\n",
    "PhysicalActivity     object\n",
    "GenHealth            object\n",
    "SleepTime           float64\n",
    "Asthma               object\n",
    "KidneyDisease        object\n",
    "SkinCancer           object\n",
    "# 2 - there are no missing values in the data \n",
    "# 3 - every attributes :\n",
    "1 - BMI  : its distribution is normal . there are alot of outliers in the data . \n",
    "2 - physicalhealth : itis distribution is bimodal , \n",
    "3 - mentalhealth : itis as same as physicalhealth .\n",
    "4 - Sex : it is almost the same number of both \n",
    "5 - age_category : uniform distribution\n",
    "6 - race : white is the most of them then hispanic then black then others then asian the American Indian/Alaskan Native\n",
    "7 - there are a litle porportion who have kidneydiseases\n",
    "8 - about 13.41 in this sample have ashma\n",
    "9 - diabetic : about 0.80 of this sample were women have diabetic during pregnancy and 2.12 are in the borderline \n",
    "10 -about 9.32 in this sample have skin cancer\n",
    "11 - \n",
    "# 4 - the target attribute which we want to predict is heartdisease\n",
    "# 5 - correlation between the attributes :\n",
    "1 - we found that bmi has a little bit correlation with heartdisease athma and lowest with kidneydisease , more correlation with physicalhealth , mentalhealth , diffwalking and diabetic/ inverse correlation with sleeptime , genhealth and physicalactivity ,\n",
    "we see that black have the hightest rate of bmi then American Indian/Alaskan Native then hispanic the other then white then asian .\n",
    " so as we see bmi has a little impact on predection if someone has heartdisease or not\n",
    "2 - smoking has correlation with hd and physicalhealth\n",
    "3 - number of male smoke more than female\n",
    "4 - older people smoke more than young one\n",
    "5 - people how smoke they are probaply drink alcohol\n",
    "6 - alcohol almost have little inverse impact on hd\n",
    "7 - stroke increase with age and related to hd\n",
    "8 - PhysicalHealth : it indicate that The higher the number, the worse the health is, it addversly affect general health and physical activity but increase hd , asthma , kidneydisease ,diifwalking , mentalhealth , bmi \n",
    "so it is very useful for the task\n",
    "9 - we see that mentalhealth dont have impact on hd\n",
    "10 - difficulty in walking increase hd rates and diabetic because of the person will not do sport and affects also asthma and kidney diseasase. also it increase with physical health damage and with age.\n",
    "11 - when person  increses with age he will be more addict to smoking and it is likely to have hd and diabetic\n",
    "also her or his physicalhealth will be worse than before and difficulty in walking\n",
    "12 - diabetic increase hd also it is related with bmi and agecategory also kidneydisease . \n",
    "13 - we see that physicalactivity and general health is very useful for decreasing heart diesease , bmi and diabetic\n",
    "14 - sleep time dont impact on heartdisease \n",
    "15 - asthma has a little little bit impact on heartdisease so its increases it\n",
    "16 - we see that kidneydisease has a big impact on heartdisease , strokes and diabetic , also it increases with age\n",
    "17 - skin cancer increase rapidly with age also it is increases hd a little\n",
    "18 - males have hight risk to have heartdisease unlike feamles\n",
    "19 - if we look at race we see white has the hight risk to have hd\n",
    "# 6 - how would we solve this problem manually : \n",
    "1 - we should create a score and this score tells us what is the probaply porportion to develop heart disease \n",
    "2 - so we look at age (based on age we add n to the score so if age was 18-25 we add 0.2 and etc) then we calculate bmi(we add to the score 1 if bmi was between 12-24.9 and 1.5 if bmi was 25-50) then if the person is diabetic or not(we add 3 if true and 2 if border line and 1 if during pregnancy or false ) \n",
    "3 - we look for kidneydisease (3 or 1) and skin cancer(2 or 1 ) \n",
    "4 - males have more risk to develop heart disease (1 for males and -1 for females)\n",
    "5 - whites have hights rate (we give whites 1.5 and the others 1  ) \n",
    "6 - smoking increasing rate of developing hd (smoke 2.5 and 1)\n",
    "7 - if he or she had before stroke they probaply develop heart disease .(3.5 and 1)\n",
    "8- if he or she has good health and playing sport they prevent from developing hd unlike who suffering from difficulties in walking (if general health and physical health was excellent -2 , verygood -1.5 , good -1 , poor 1 , fair 1.5)and for phyiscal activity (if true -1 and if not 1) and (if there difficulty in walking we add 3 , if not 1)\n",
    "9- then we get the score if the score was (26.1 - 18 then he or she has hight risk ) and (18 - 10 moderate risk) and (10 -4.2 has low risk)\n",
    "10 - these score is not accurate so it is just a suggestion how would we solve the problem manually\n",
    "11 - we see that mentalhealth , sleep time have no effect on hd , ashma has a little effect so  we exclude it from the study\n",
    "# 7 - more extra data we should have :\n",
    "1 - blood pressure is useful indicator \n",
    "2 - family history \n",
    "3 - triglycride , ldl , hdl \n",
    "4 - gentic tests"
   ]
  },
  {
   "cell_type": "markdown",
   "id": "7455786c",
   "metadata": {},
   "source": [
    "# 2 now we sould prepare the data "
   ]
  },
  {
   "cell_type": "markdown",
   "id": "f2522589",
   "metadata": {},
   "source": [
    "# 1-  Data Cleaning : \n",
    " Outlier removal:"
   ]
  },
  {
   "cell_type": "code",
   "execution_count": null,
   "id": "b4aae5e4",
   "metadata": {},
   "outputs": [],
   "source": [
    "plt.hist(data.BMI  , bins=20,rwidth=0.9)\n",
    "plt.xlabel(\"BMI\")\n",
    "plt.ylabel(\"num\")\n",
    "plt.show()"
   ]
  },
  {
   "cell_type": "code",
   "execution_count": null,
   "id": "722d6d28",
   "metadata": {},
   "outputs": [],
   "source": [
    "data.BMI.std()"
   ]
  },
  {
   "cell_type": "code",
   "execution_count": null,
   "id": "e67b12a3",
   "metadata": {},
   "outputs": [],
   "source": [
    "def remvoe_outlier_using_std(data , col , num_of_std):\n",
    "    std = data[col].std()\n",
    "    lower_limit = data[col].mean() - num_of_std * std \n",
    "    upper_limit = data[col].mean() + num_of_std * std\n",
    "    data = data[(data[col] > lower_limit) & (data[col] < upper_limit)]\n",
    "    return data\n",
    "def remvoe_outlier_using_Iqr(data , col ):\n",
    "    IQR = data[col].quantile(0.75) - data[col].quantile(0.25)\n",
    "    lower = data[col].quantile(0.25) - 1.5 * IQR\n",
    "    upper = data[col].quantile(0.75) + 1.5 * IQR\n",
    "    data = data[(data[col] > lower) & (data[col] < upper)]\n",
    "    return data"
   ]
  },
  {
   "cell_type": "code",
   "execution_count": null,
   "id": "d214fb28",
   "metadata": {},
   "outputs": [],
   "source": [
    "data = remvoe_outlier_using_Iqr(data,'BMI')"
   ]
  },
  {
   "cell_type": "code",
   "execution_count": null,
   "id": "867b033a",
   "metadata": {},
   "outputs": [],
   "source": [
    "data.BMI.describe()"
   ]
  },
  {
   "cell_type": "code",
   "execution_count": null,
   "id": "21080b49",
   "metadata": {},
   "outputs": [],
   "source": [
    "plt.hist(data.BMI  , bins=20,rwidth=0.9)\n",
    "plt.xlabel(\"BMI\")\n",
    "plt.ylabel(\"num\")\n",
    "plt.show()"
   ]
  },
  {
   "cell_type": "markdown",
   "id": "a432f3e8",
   "metadata": {},
   "source": [
    "# fortunately there are no missing values in the data"
   ]
  },
  {
   "cell_type": "markdown",
   "id": "dd956406",
   "metadata": {},
   "source": [
    "# 2 - feautre selection"
   ]
  },
  {
   "cell_type": "markdown",
   "id": "d4138381",
   "metadata": {},
   "source": [
    "1 - Using VarianceThreshold"
   ]
  },
  {
   "cell_type": "code",
   "execution_count": null,
   "id": "e4f00f98",
   "metadata": {},
   "outputs": [],
   "source": [
    "from sklearn.feature_selection import VarianceThreshold\n",
    "from sklearn.model_selection import train_test_split"
   ]
  },
  {
   "cell_type": "code",
   "execution_count": null,
   "id": "83f4d2d5",
   "metadata": {},
   "outputs": [],
   "source": [
    "#  we will remove all features that have low variance , so if the feautre has very variance that mean that it is constant feature\n",
    "# so we should remove it from the data"
   ]
  },
  {
   "cell_type": "code",
   "execution_count": null,
   "id": "9903d53d",
   "metadata": {},
   "outputs": [],
   "source": [
    "var_thres = VarianceThreshold(threshold=0)\n",
    "var_thres.fit(data)\n",
    "var_thres.get_support()"
   ]
  },
  {
   "cell_type": "code",
   "execution_count": null,
   "id": "dc5b4272",
   "metadata": {},
   "outputs": [],
   "source": [
    "# so we see that no feature in the data has low variance"
   ]
  },
  {
   "cell_type": "markdown",
   "id": "11cf59b5",
   "metadata": {},
   "source": [
    "2 - Using Paerson Correlation "
   ]
  },
  {
   "cell_type": "code",
   "execution_count": null,
   "id": "38d685cb",
   "metadata": {},
   "outputs": [],
   "source": [
    "X = data.drop('HeartDisease' , axis=1)\n",
    "Y = data.HeartDisease"
   ]
  },
  {
   "cell_type": "code",
   "execution_count": null,
   "id": "822a7311",
   "metadata": {},
   "outputs": [],
   "source": [
    "X_train , x_test ,y_train , y_test = train_test_split(X, Y , test_size=0.2 , random_state= 0) "
   ]
  },
  {
   "cell_type": "code",
   "execution_count": null,
   "id": "36709ee2",
   "metadata": {},
   "outputs": [],
   "source": [
    "plt.figure(figsize=(15,15))\n",
    "sn.heatmap(X_train.corr() , annot=True , cmap=plt.cm.CMRmap_r)\n",
    "plt.show()"
   ]
  },
  {
   "cell_type": "code",
   "execution_count": null,
   "id": "cf944a69",
   "metadata": {},
   "outputs": [],
   "source": [
    "def correlation(data , threshold):\n",
    "    corr_Set = set()\n",
    "    corr_matrix = data.corr()\n",
    "    for i in range(len(corr_matrix.columns)) : \n",
    "        for j in range(i) :\n",
    "            if abs(corr_matrix.iloc[i,j]) > threshold :\n",
    "                name = corr_matrix.columns[i]\n",
    "                corr_Set.add(name)\n",
    "    return corr_Set            "
   ]
  },
  {
   "cell_type": "code",
   "execution_count": null,
   "id": "3cbde92e",
   "metadata": {},
   "outputs": [],
   "source": [
    "correlation(X_train , 0.7)"
   ]
  },
  {
   "cell_type": "code",
   "execution_count": null,
   "id": "d15bdcfe",
   "metadata": {},
   "outputs": [],
   "source": [
    "# we use 0.7 threshold because it is very common"
   ]
  },
  {
   "cell_type": "code",
   "execution_count": null,
   "id": "9bba5042",
   "metadata": {},
   "outputs": [],
   "source": [
    "data.drop(\"Male\" , axis= 1 , inplace=True)"
   ]
  },
  {
   "cell_type": "markdown",
   "id": "15e3a6bf",
   "metadata": {},
   "source": [
    "3 - using mutual information"
   ]
  },
  {
   "cell_type": "code",
   "execution_count": null,
   "id": "4bae9c6e",
   "metadata": {},
   "outputs": [],
   "source": [
    "from sklearn.feature_selection import mutual_info_classif"
   ]
  },
  {
   "cell_type": "code",
   "execution_count": null,
   "id": "50b77719",
   "metadata": {},
   "outputs": [],
   "source": [
    "mutual_info = mutual_info_classif(X_train , y_train)"
   ]
  },
  {
   "cell_type": "code",
   "execution_count": null,
   "id": "db449171",
   "metadata": {},
   "outputs": [],
   "source": [
    "mutual_info"
   ]
  },
  {
   "cell_type": "code",
   "execution_count": null,
   "id": "e882aba3",
   "metadata": {},
   "outputs": [],
   "source": [
    "mutual_info = pd.Series(mutual_info)\n",
    "mutual_info.index = X_train.columns\n",
    "mutual_info.sort_values(ascending=False)"
   ]
  },
  {
   "cell_type": "code",
   "execution_count": null,
   "id": "5ba7488f",
   "metadata": {},
   "outputs": [],
   "source": [
    "plt.figure(figsize=(20,12))\n",
    "plt.xticks(range(len(mutual_info.index)), mutual_info.index, rotation='vertical')\n",
    "mutual_info.sort_values(ascending=False).plot.bar(figsize=(20, 8))\n",
    "plt.show()"
   ]
  },
  {
   "cell_type": "code",
   "execution_count": null,
   "id": "3d014708",
   "metadata": {},
   "outputs": [],
   "source": [
    "# then we will drop last 4 features"
   ]
  },
  {
   "cell_type": "code",
   "execution_count": null,
   "id": "a0837b12",
   "metadata": {},
   "outputs": [],
   "source": [
    "data.drop(['Other' , 'Asian' , 'Black' , 'American Indian/Alaskan Native'] , axis=1  , inplace=True)"
   ]
  },
  {
   "cell_type": "markdown",
   "id": "8af7dd08",
   "metadata": {},
   "source": [
    " 4 -Using chi square test\n",
    " It will just use categorical features "
   ]
  },
  {
   "cell_type": "code",
   "execution_count": null,
   "id": "fd3beece",
   "metadata": {},
   "outputs": [],
   "source": [
    "columns = list(data.columns)\n",
    "columns.remove('BMI')\n",
    "columns.remove('SleepTime')"
   ]
  },
  {
   "cell_type": "code",
   "execution_count": null,
   "id": "be3e6e5a",
   "metadata": {},
   "outputs": [],
   "source": [
    "data_chi2 = data[columns]"
   ]
  },
  {
   "cell_type": "code",
   "execution_count": null,
   "id": "04feb194",
   "metadata": {},
   "outputs": [],
   "source": [
    "data_chi2.head()"
   ]
  },
  {
   "cell_type": "code",
   "execution_count": null,
   "id": "74979a2e",
   "metadata": {},
   "outputs": [],
   "source": [
    "X_train2,X_test2,y_train2,y_test2=train_test_split(data_chi2.drop('HeartDisease',axis=1),\n",
    "                                              data_chi2['HeartDisease'], test_size=0.3,random_state=100)"
   ]
  },
  {
   "cell_type": "code",
   "execution_count": null,
   "id": "44e8ba5a",
   "metadata": {},
   "outputs": [],
   "source": [
    "### chi2 returns 2 values\n",
    "### Fscore and the pvalue\n",
    "from sklearn.feature_selection import chi2\n",
    "f_p_values=chi2(X_train2,y_train2)"
   ]
  },
  {
   "cell_type": "code",
   "execution_count": null,
   "id": "15c20c9d",
   "metadata": {},
   "outputs": [],
   "source": [
    "f_p_values"
   ]
  },
  {
   "cell_type": "code",
   "execution_count": null,
   "id": "b809a727",
   "metadata": {},
   "outputs": [],
   "source": [
    "p_values=pd.Series(f_p_values[0])\n",
    "p_values.index=X_train2.columns\n",
    "p_values.sort_values(ascending=False)"
   ]
  },
  {
   "cell_type": "code",
   "execution_count": null,
   "id": "0bc52474",
   "metadata": {},
   "outputs": [],
   "source": [
    "p_values=pd.Series(f_p_values[1])\n",
    "p_values.index=X_train2.columns\n",
    "p_values.sort_values(ascending=True)"
   ]
  },
  {
   "cell_type": "code",
   "execution_count": null,
   "id": "399a869d",
   "metadata": {},
   "outputs": [],
   "source": [
    "# we see that white , alcohol drinikng , hispanic and athma have the lowest fscore and the hightest p_value"
   ]
  },
  {
   "cell_type": "code",
   "execution_count": null,
   "id": "a226cbe2",
   "metadata": {},
   "outputs": [],
   "source": [
    "# this step is optional so we will apply it and look at results then we will try to not apply it\n",
    "data.drop(['Asthma', 'SleepTime' ] , axis=1 ,inplace=True)"
   ]
  },
  {
   "cell_type": "markdown",
   "id": "e3502024",
   "metadata": {},
   "source": [
    "------ we finished from feautres selection but we will return to improve the performance of our model but at first \n",
    "       we drop asthman and sleep time because we found in data exploration that both of them are not correlated with                    HeartDisease"
   ]
  },
  {
   "cell_type": "markdown",
   "id": "ea78a2d4",
   "metadata": {},
   "source": [
    "# 3 Feautres engieneering"
   ]
  },
  {
   "cell_type": "markdown",
   "id": "fc4cf7e6",
   "metadata": {},
   "source": [
    "1 - gaussian transformation"
   ]
  },
  {
   "cell_type": "code",
   "execution_count": null,
   "id": "74662a1b",
   "metadata": {},
   "outputs": [],
   "source": [
    "import scipy.stats as stats\n",
    "def diagnostic_plots(df, variable):\n",
    "    # function to plot a histogram and a Q-Q plot\n",
    "    # side by side, for a certain variable\n",
    "    \n",
    "    plt.figure(figsize=(15,6))\n",
    "    plt.subplot(1, 2, 1)\n",
    "    df[variable].hist()\n",
    "\n",
    "    plt.subplot(1, 2, 2)\n",
    "    stats.probplot(df[variable], dist=\"norm\", plot=plt)\n",
    "\n",
    "    plt.show()"
   ]
  },
  {
   "cell_type": "code",
   "execution_count": null,
   "id": "bf4a15f9",
   "metadata": {},
   "outputs": [],
   "source": [
    "diagnostic_plots(data , 'BMI')"
   ]
  },
  {
   "cell_type": "markdown",
   "id": "cd44f718",
   "metadata": {},
   "source": [
    "we see that BMI  is take gaussian distribution so it dont need any transformation and we dont have any numerical data except \n",
    "BMI feature .  "
   ]
  },
  {
   "cell_type": "markdown",
   "id": "3c3680b0",
   "metadata": {},
   "source": [
    "2- Discrtize continous features "
   ]
  },
  {
   "cell_type": "code",
   "execution_count": null,
   "id": "89c2a9e2",
   "metadata": {},
   "outputs": [],
   "source": [
    "data['BMI_discrete']=pd.cut(x=data['BMI'], bins=15 ,labels = [i+1 for i in range(15)])"
   ]
  },
  {
   "cell_type": "code",
   "execution_count": null,
   "id": "d5393eb2",
   "metadata": {},
   "outputs": [],
   "source": [
    "data.head()"
   ]
  },
  {
   "cell_type": "markdown",
   "id": "6b4c1cfd",
   "metadata": {},
   "source": [
    "3 - feature_scaling"
   ]
  },
  {
   "cell_type": "code",
   "execution_count": null,
   "id": "e4a38112",
   "metadata": {},
   "outputs": [],
   "source": [
    "data['BMI_norm'] = (data.BMI - data.BMI.min())/(data.BMI.max() - data.BMI.min())"
   ]
  },
  {
   "cell_type": "code",
   "execution_count": null,
   "id": "56a7fe8d",
   "metadata": {},
   "outputs": [],
   "source": [
    "data['Sleep_Time_norm'] = (data.SleepTime - data.SleepTime.min())/(data.SleepTime.max() - data.SleepTime.min())"
   ]
  },
  {
   "cell_type": "markdown",
   "id": "24e9ed76",
   "metadata": {},
   "source": [
    "4 - handle imbalanced data"
   ]
  },
  {
   "cell_type": "code",
   "execution_count": null,
   "id": "02f9ba4e",
   "metadata": {},
   "outputs": [],
   "source": [
    "print('count of positive :',data[data.HeartDisease ==1 ].HeartDisease.count())\n",
    "print('count of negative :', data[data.HeartDisease ==0 ].HeartDisease.count())"
   ]
  },
  {
   "cell_type": "code",
   "execution_count": null,
   "id": "45d99278",
   "metadata": {},
   "outputs": [],
   "source": [
    "# so the data is imbalanced , we need to handle this "
   ]
  },
  {
   "cell_type": "code",
   "execution_count": null,
   "id": "a55812bd",
   "metadata": {},
   "outputs": [],
   "source": [
    "x = data.drop('HeartDisease' , axis= 1)\n",
    "y = data.HeartDisease"
   ]
  },
  {
   "cell_type": "code",
   "execution_count": null,
   "id": "5d3a903e",
   "metadata": {},
   "outputs": [],
   "source": [
    "import imblearn as im"
   ]
  },
  {
   "cell_type": "code",
   "execution_count": null,
   "id": "d1b8924b",
   "metadata": {},
   "outputs": [],
   "source": [
    "smote =im.over_sampling.SMOTE(sampling_strategy='minority')"
   ]
  },
  {
   "cell_type": "code",
   "execution_count": null,
   "id": "66f71937",
   "metadata": {
    "scrolled": true
   },
   "outputs": [],
   "source": [
    "y.value_counts()"
   ]
  },
  {
   "cell_type": "code",
   "execution_count": null,
   "id": "92ab478b",
   "metadata": {},
   "outputs": [],
   "source": [
    "x_sm , y_sm =smote.fit_resample(x,y)"
   ]
  },
  {
   "cell_type": "code",
   "execution_count": null,
   "id": "0a5ffb0a",
   "metadata": {},
   "outputs": [],
   "source": [
    "y_sm.value_counts()"
   ]
  },
  {
   "cell_type": "code",
   "execution_count": null,
   "id": "94a148e8",
   "metadata": {},
   "outputs": [],
   "source": [
    "x_sm.isna().sum()"
   ]
  },
  {
   "cell_type": "code",
   "execution_count": null,
   "id": "91d8fad8",
   "metadata": {},
   "outputs": [],
   "source": [
    "x_sm.drop('BMI_discrete' , axis=1 , inplace=True)"
   ]
  },
  {
   "cell_type": "code",
   "execution_count": null,
   "id": "d762bf5c",
   "metadata": {},
   "outputs": [],
   "source": [
    "x_sm['BMI_discrete']=pd.cut(x=x_sm['BMI'], bins=15 ,labels = [i+1 for i in range(15)])"
   ]
  },
  {
   "cell_type": "markdown",
   "id": "f88db1c3",
   "metadata": {},
   "source": [
    "# 3 shortlist promissing models"
   ]
  },
  {
   "cell_type": "markdown",
   "id": "78fe77c7",
   "metadata": {},
   "source": [
    "1 - Logisticregression : "
   ]
  },
  {
   "cell_type": "code",
   "execution_count": null,
   "id": "3be7aa5b",
   "metadata": {},
   "outputs": [],
   "source": [
    "from sklearn.linear_model import LogisticRegression\n",
    "from sklearn.metrics import confusion_matrix , classification_report\n",
    "from sklearn.model_selection import cross_val_predict\n",
    "from sklearn.model_selection import train_test_split\n",
    "import tensorflow as tf\n",
    "from sklearn import metrics"
   ]
  },
  {
   "cell_type": "code",
   "execution_count": null,
   "id": "354d7397",
   "metadata": {},
   "outputs": [],
   "source": [
    "x_train , x_test , y_train , y_test = train_test_split(x_sm.drop(['BMI_discrete' , 'BMI'],axis=1),y_sm , test_size=0.1 )"
   ]
  },
  {
   "cell_type": "code",
   "execution_count": null,
   "id": "072dce94",
   "metadata": {},
   "outputs": [],
   "source": [
    "#or\n",
    "x_train , x_test , y_train , y_test = train_test_split(x_sm.drop(['BMI_norm' , 'BMI'],axis=1),y_sm , test_size=0.1 )"
   ]
  },
  {
   "cell_type": "code",
   "execution_count": null,
   "id": "7c1b7d1a",
   "metadata": {},
   "outputs": [],
   "source": [
    "#or "
   ]
  },
  {
   "cell_type": "code",
   "execution_count": null,
   "id": "68c8ae68",
   "metadata": {},
   "outputs": [],
   "source": [
    "logesticregressor = LogisticRegression(max_iter=1000)"
   ]
  },
  {
   "cell_type": "code",
   "execution_count": null,
   "id": "b3f1c850",
   "metadata": {},
   "outputs": [],
   "source": [
    "logesticregressor.fit(x_train , y_train )"
   ]
  },
  {
   "cell_type": "code",
   "execution_count": null,
   "id": "ed75db8b",
   "metadata": {},
   "outputs": [],
   "source": [
    "logesticregressor.score(x_train , y_train)"
   ]
  },
  {
   "cell_type": "code",
   "execution_count": null,
   "id": "62d04ecf",
   "metadata": {},
   "outputs": [],
   "source": [
    "logesticregressor.score(x_test , y_test)"
   ]
  },
  {
   "cell_type": "code",
   "execution_count": null,
   "id": "d4cf218a",
   "metadata": {},
   "outputs": [],
   "source": [
    "y_pred = logesticregressor.predict(x_test)"
   ]
  },
  {
   "cell_type": "code",
   "execution_count": null,
   "id": "b01990a7",
   "metadata": {},
   "outputs": [],
   "source": [
    "cm = tf.math.confusion_matrix(labels = y_test , predictions = y_pred)"
   ]
  },
  {
   "cell_type": "code",
   "execution_count": null,
   "id": "43934822",
   "metadata": {},
   "outputs": [],
   "source": [
    "sn.heatmap(cm ,annot=True , fmt='d')"
   ]
  },
  {
   "cell_type": "code",
   "execution_count": null,
   "id": "02eb5f6c",
   "metadata": {},
   "outputs": [],
   "source": [
    "print(classification_report(y_test , y_pred))"
   ]
  },
  {
   "cell_type": "code",
   "execution_count": null,
   "id": "1d465987",
   "metadata": {},
   "outputs": [],
   "source": [
    "logisticregressor_2 =  LogisticRegression(max_iter=1000)"
   ]
  },
  {
   "cell_type": "code",
   "execution_count": null,
   "id": "105ad422",
   "metadata": {},
   "outputs": [],
   "source": [
    "predicted = cross_val_predict(logisticregressor_2, x_sm.drop(['BMI_discrete' , 'BMI'],axis=1),y_sm, cv=10)"
   ]
  },
  {
   "cell_type": "code",
   "execution_count": null,
   "id": "e59a9f53",
   "metadata": {},
   "outputs": [],
   "source": [
    "print(metrics.accuracy_score(y_sm, predicted))"
   ]
  },
  {
   "cell_type": "code",
   "execution_count": null,
   "id": "4241c3d0",
   "metadata": {},
   "outputs": [],
   "source": [
    "print(classification_report(y_sm , predicted))"
   ]
  },
  {
   "cell_type": "code",
   "execution_count": null,
   "id": "bf01a1c8",
   "metadata": {},
   "outputs": [],
   "source": [
    "# we saw that the results didnot change alot in train test set and cross validation\n",
    "# the model doing well and there is no overfitting but the accuracy is low"
   ]
  },
  {
   "cell_type": "markdown",
   "id": "de73c891",
   "metadata": {},
   "source": [
    "2 - Random_forest"
   ]
  },
  {
   "cell_type": "code",
   "execution_count": null,
   "id": "17fd0916",
   "metadata": {},
   "outputs": [],
   "source": [
    "from sklearn.ensemble import RandomForestClassifier"
   ]
  },
  {
   "cell_type": "code",
   "execution_count": null,
   "id": "e27fb11a",
   "metadata": {},
   "outputs": [],
   "source": [
    "forest_classifier = RandomForestClassifier()"
   ]
  },
  {
   "cell_type": "code",
   "execution_count": null,
   "id": "f08e988b",
   "metadata": {},
   "outputs": [],
   "source": [
    "forest_classifier.fit(x_train , y_train)"
   ]
  },
  {
   "cell_type": "code",
   "execution_count": null,
   "id": "37d0b247",
   "metadata": {},
   "outputs": [],
   "source": [
    "forest_classifier.score(x_train , y_train)"
   ]
  },
  {
   "cell_type": "code",
   "execution_count": null,
   "id": "0a11a3d1",
   "metadata": {},
   "outputs": [],
   "source": [
    "forest_classifier.score(x_test , y_test)"
   ]
  },
  {
   "cell_type": "code",
   "execution_count": null,
   "id": "f63194db",
   "metadata": {},
   "outputs": [],
   "source": [
    "y_predf = forest_classifier.predict(x_test)"
   ]
  },
  {
   "cell_type": "code",
   "execution_count": null,
   "id": "85983c14",
   "metadata": {},
   "outputs": [],
   "source": [
    "print(classification_report(y_test , y_predf))"
   ]
  },
  {
   "cell_type": "code",
   "execution_count": null,
   "id": "ae158b53",
   "metadata": {},
   "outputs": [],
   "source": [
    "predictedf = cross_val_predict(RandomForestClassifier(),x_sm.drop(['BMI_discrete' , 'BMI'],axis=1),y_sm, cv=10)"
   ]
  },
  {
   "cell_type": "code",
   "execution_count": null,
   "id": "5bfdc851",
   "metadata": {},
   "outputs": [],
   "source": [
    "print(metrics.accuracy_score(y_sm, predictedf))"
   ]
  },
  {
   "cell_type": "code",
   "execution_count": null,
   "id": "49dd3491",
   "metadata": {},
   "outputs": [],
   "source": [
    "print(classification_report(y_sm , predictedf))"
   ]
  },
  {
   "cell_type": "code",
   "execution_count": null,
   "id": "3658f9a3",
   "metadata": {},
   "outputs": [],
   "source": [
    "# the model is overfitting we should prevent the overfitting here"
   ]
  },
  {
   "cell_type": "markdown",
   "id": "313cb466",
   "metadata": {},
   "source": [
    "3 - naivebayes"
   ]
  },
  {
   "cell_type": "code",
   "execution_count": null,
   "id": "c1624645",
   "metadata": {},
   "outputs": [],
   "source": [
    "from sklearn.naive_bayes import GaussianNB"
   ]
  },
  {
   "cell_type": "code",
   "execution_count": null,
   "id": "50aa2fdd",
   "metadata": {},
   "outputs": [],
   "source": [
    "Naivebayes = GaussianNB()"
   ]
  },
  {
   "cell_type": "code",
   "execution_count": null,
   "id": "459ed02f",
   "metadata": {},
   "outputs": [],
   "source": [
    "Naivebayes.fit(x_train , y_train)"
   ]
  },
  {
   "cell_type": "code",
   "execution_count": null,
   "id": "ee115f39",
   "metadata": {},
   "outputs": [],
   "source": [
    "Naivebayes.score(x_train , y_train)"
   ]
  },
  {
   "cell_type": "code",
   "execution_count": null,
   "id": "20a129a3",
   "metadata": {},
   "outputs": [],
   "source": [
    "Naivebayes.score(x_test , y_test)"
   ]
  },
  {
   "cell_type": "code",
   "execution_count": null,
   "id": "8603f899",
   "metadata": {},
   "outputs": [],
   "source": [
    "y_predbayes = Naivebayes.predict(x_test)"
   ]
  },
  {
   "cell_type": "code",
   "execution_count": null,
   "id": "5830f9c1",
   "metadata": {},
   "outputs": [],
   "source": [
    "print(classification_report(y_test , y_predbayes))"
   ]
  },
  {
   "cell_type": "code",
   "execution_count": null,
   "id": "57205382",
   "metadata": {},
   "outputs": [],
   "source": [
    "predictedbayes = cross_val_predict(GaussianNB(),x_sm.drop(['BMI_discrete' , 'BMI'],axis=1),y_sm, cv=10)"
   ]
  },
  {
   "cell_type": "code",
   "execution_count": null,
   "id": "467b3ef4",
   "metadata": {},
   "outputs": [],
   "source": [
    "print(metrics.accuracy_score(y_sm, predictedbayes))"
   ]
  },
  {
   "cell_type": "code",
   "execution_count": null,
   "id": "bc51d387",
   "metadata": {},
   "outputs": [],
   "source": [
    "print(classification_report(y_sm , predictedbayes))"
   ]
  },
  {
   "cell_type": "code",
   "execution_count": null,
   "id": "d6f2ceeb",
   "metadata": {},
   "outputs": [],
   "source": [
    "# we saw that the results didnot change alot in train test set and cross validation\n",
    "# the model doing well and there is no overfitting but the accuracy is low"
   ]
  },
  {
   "cell_type": "markdown",
   "id": "da19175e",
   "metadata": {},
   "source": [
    "4 - nerual_network"
   ]
  },
  {
   "cell_type": "code",
   "execution_count": null,
   "id": "9bc8ea5f",
   "metadata": {},
   "outputs": [],
   "source": [
    "x_train.shape"
   ]
  },
  {
   "cell_type": "code",
   "execution_count": null,
   "id": "377389b2",
   "metadata": {},
   "outputs": [],
   "source": [
    "model = tf.keras.Sequential([\n",
    "    tf.keras.layers.Dense(10, input_shape=(16,), activation='relu'),\n",
    "    tf.keras.layers.Dense(10, activation='relu'),\n",
    "    tf.keras.layers.Dense(1, activation='sigmoid')\n",
    "    ])\n",
    "model.compile(optimizer= 'adam' , \n",
    "             loss='binary_crossentropy',\n",
    "              metrics=['accuracy'])\n",
    "model.fit(x_train , y_train , epochs=10)"
   ]
  },
  {
   "cell_type": "code",
   "execution_count": null,
   "id": "5c98e06e",
   "metadata": {},
   "outputs": [],
   "source": [
    "model.evaluate(x_test , y_test)"
   ]
  },
  {
   "cell_type": "code",
   "execution_count": null,
   "id": "24d32ca5",
   "metadata": {},
   "outputs": [],
   "source": [
    "predict_n = model.predict(x_test)"
   ]
  },
  {
   "cell_type": "code",
   "execution_count": null,
   "id": "cbffe339",
   "metadata": {},
   "outputs": [],
   "source": [
    "for i in predict_n : \n",
    "    if i[0] > 0.5 :\n",
    "        i[0] = 1\n",
    "    else :\n",
    "        i[0] =0"
   ]
  },
  {
   "cell_type": "code",
   "execution_count": null,
   "id": "e662abb3",
   "metadata": {},
   "outputs": [],
   "source": [
    "print(classification_report(y_test , predict_n))"
   ]
  },
  {
   "cell_type": "code",
   "execution_count": null,
   "id": "7f7b768d",
   "metadata": {},
   "outputs": [],
   "source": [
    "# so as we see that dont have overfitting problem but the accuracy is low "
   ]
  },
  {
   "cell_type": "markdown",
   "id": "11ef9909",
   "metadata": {},
   "source": [
    "# 4 fine tunning models"
   ]
  },
  {
   "cell_type": "markdown",
   "id": "f371cfab",
   "metadata": {},
   "source": [
    "1 - Logistic_regression"
   ]
  },
  {
   "cell_type": "code",
   "execution_count": null,
   "id": "a29736fd",
   "metadata": {},
   "outputs": [],
   "source": [
    "logistic_regresson = LogisticRegression(max_iter=1000)"
   ]
  },
  {
   "cell_type": "code",
   "execution_count": null,
   "id": "b0203550",
   "metadata": {},
   "outputs": [],
   "source": [
    "from sklearn.model_selection import RandomizedSearchCV\n",
    "clf1random = RandomizedSearchCV(logistic_regresson \n",
    "                    ,{'solver' : ['newton-cg', 'lbfgs', 'liblinear'],\n",
    "                                         'penalty' : ['none', 'l1', 'l2'],\n",
    "                                         'C' : [100, 10, 1.0, 0.1, 0.01] \n",
    "                                        } , cv=5 , n_iter=10)"
   ]
  },
  {
   "cell_type": "code",
   "execution_count": null,
   "id": "9aae71e9",
   "metadata": {},
   "outputs": [],
   "source": [
    "clf1random.fit(x_train , y_train)"
   ]
  },
  {
   "cell_type": "code",
   "execution_count": null,
   "id": "14abd642",
   "metadata": {},
   "outputs": [],
   "source": [
    "clf1random.best_score_"
   ]
  },
  {
   "cell_type": "code",
   "execution_count": null,
   "id": "0c4d7dac",
   "metadata": {},
   "outputs": [],
   "source": [
    "clf1random.best_estimator_"
   ]
  },
  {
   "cell_type": "code",
   "execution_count": null,
   "id": "d1e69048",
   "metadata": {},
   "outputs": [],
   "source": [
    "clf1random.best_estimator_.score(x_test , y_test)"
   ]
  },
  {
   "cell_type": "code",
   "execution_count": null,
   "id": "b204fb9f",
   "metadata": {},
   "outputs": [],
   "source": [
    "# we see that the performance doesnot imporove alot"
   ]
  },
  {
   "cell_type": "markdown",
   "id": "2ec62d96",
   "metadata": {},
   "source": [
    " we will try to add ashma and sleep time to the data to see the performance"
   ]
  },
  {
   "cell_type": "markdown",
   "id": "0d6f88a6",
   "metadata": {},
   "source": [
    "and we see that score improve from 0.75 to 0.79"
   ]
  },
  {
   "cell_type": "markdown",
   "id": "86048c6e",
   "metadata": {},
   "source": [
    "2 - Randomforest"
   ]
  },
  {
   "cell_type": "code",
   "execution_count": null,
   "id": "280ca20a",
   "metadata": {},
   "outputs": [],
   "source": [
    "randomforst = RandomForestClassifier()\n",
    "param_grid ={\n",
    "  'n_estimators' : [3,10,30] , 'max_features'  : [2,4,6,8] , 'bootstrap' : [False , True]  \n",
    "}\n",
    "clf2random = RandomizedSearchCV(randomforst \n",
    "                    ,param_grid , cv=5 ,n_iter=10)"
   ]
  },
  {
   "cell_type": "code",
   "execution_count": null,
   "id": "86c49d16",
   "metadata": {},
   "outputs": [],
   "source": [
    "clf2random.fit(x_train , y_train)"
   ]
  },
  {
   "cell_type": "code",
   "execution_count": null,
   "id": "f67d0a06",
   "metadata": {
    "scrolled": true
   },
   "outputs": [],
   "source": [
    "clf2random.best_score_"
   ]
  },
  {
   "cell_type": "code",
   "execution_count": null,
   "id": "992e5e6c",
   "metadata": {},
   "outputs": [],
   "source": [
    "print(clf2random.best_estimator_.score(x_train , y_train))\n",
    "print(clf2random.best_estimator_.score(x_test , y_test))"
   ]
  },
  {
   "cell_type": "code",
   "execution_count": null,
   "id": "744fa30e",
   "metadata": {
    "scrolled": false
   },
   "outputs": [],
   "source": [
    "clf2random.best_estimator_"
   ]
  },
  {
   "cell_type": "code",
   "execution_count": null,
   "id": "202fb063",
   "metadata": {},
   "outputs": [],
   "source": [
    "clf2random.best_estimator_"
   ]
  },
  {
   "cell_type": "code",
   "execution_count": null,
   "id": "cac70139",
   "metadata": {
    "scrolled": true
   },
   "outputs": [],
   "source": [
    "print(classification_report(clf2random.predict(x_test) , y_test))"
   ]
  },
  {
   "cell_type": "code",
   "execution_count": null,
   "id": "9bf4e2d5",
   "metadata": {},
   "outputs": [],
   "source": [
    "# we see that there is overfitting in this and we should solve it"
   ]
  },
  {
   "cell_type": "code",
   "execution_count": null,
   "id": "87f09102",
   "metadata": {},
   "outputs": [],
   "source": [
    "def forest(model) :\n",
    "    model.fit(x_train , y_train)\n",
    "    print(model.score(x_train , y_train))\n",
    "    print(model.score(x_test , y_test))"
   ]
  },
  {
   "cell_type": "code",
   "execution_count": null,
   "id": "e331fecc",
   "metadata": {},
   "outputs": [],
   "source": [
    "random_forest1 = RandomForestClassifier(n_estimators=10 , max_features=8,  min_samples_leaf=8,max_depth=20)\n",
    "forest(random_forest1)"
   ]
  },
  {
   "cell_type": "code",
   "execution_count": null,
   "id": "c0caa137",
   "metadata": {},
   "outputs": [],
   "source": [
    "random_forest2 = RandomForestClassifier(n_estimators=10 , max_features=12,  min_samples_leaf=8,max_depth=20)\n",
    "forest(random_forest2)"
   ]
  },
  {
   "cell_type": "code",
   "execution_count": null,
   "id": "155f279f",
   "metadata": {},
   "outputs": [],
   "source": [
    "random_forest3 = RandomForestClassifier(n_estimators=15 , max_features=8,  min_samples_leaf=7)\n",
    "forest(random_forest3)"
   ]
  },
  {
   "cell_type": "code",
   "execution_count": null,
   "id": "ac1c5fa8",
   "metadata": {},
   "outputs": [],
   "source": [
    "# we fix the overfitting and this is the best model random_forest16"
   ]
  },
  {
   "cell_type": "markdown",
   "id": "ad9a4f33",
   "metadata": {},
   "source": [
    "3 - neural network"
   ]
  },
  {
   "cell_type": "code",
   "execution_count": null,
   "id": "3ab7a5e6",
   "metadata": {},
   "outputs": [],
   "source": [
    "from tensorflow.keras.wrappers.scikit_learn import KerasClassifier"
   ]
  },
  {
   "cell_type": "code",
   "execution_count": null,
   "id": "ceb00661",
   "metadata": {},
   "outputs": [],
   "source": [
    "def create_model(layers , activation):\n",
    "    model = tf.keras.Sequential()\n",
    "    for i , nodes in enumerate(layers) :\n",
    "        if i ==0 :\n",
    "            model.add(tf.keras.layers.Dense(nodes , input_dim = x_train.shape[1]))\n",
    "            model.add(tf.keras.layers.Activation(activation))\n",
    "        else :\n",
    "            model.add(tf.keras.layers.Dense(nodes ))\n",
    "            model.add(tf.keras.layers.Activation(activation))\n",
    "        model.add(tf.keras.layers.Dense(1))\n",
    "        model.add(tf.keras.layers.Activation(activation))\n",
    "        model.compile(optimizer= 'adam' , \n",
    "             loss='binary_crossentropy',\n",
    "              metrics=['accuracy'])\n",
    "        return model"
   ]
  },
  {
   "cell_type": "code",
   "execution_count": null,
   "id": "4bcce06d",
   "metadata": {},
   "outputs": [],
   "source": [
    "model = KerasClassifier(build_fn= create_model , verbose=0)\n",
    "model"
   ]
  },
  {
   "cell_type": "code",
   "execution_count": null,
   "id": "2f8e4615",
   "metadata": {},
   "outputs": [],
   "source": [
    "param = dict(layers = [[20] , [20 , 20] ,[10,20,35]] , activation= ['sigmoid' , 'relu'] , batch_size = [128,256] , epochs=[20])\n",
    "clf3 = GridSearchCV(estimator=model , param_grid=param)"
   ]
  },
  {
   "cell_type": "code",
   "execution_count": null,
   "id": "df7550da",
   "metadata": {},
   "outputs": [],
   "source": [
    "result_nn =clf3.fit(x_train , y_train)"
   ]
  },
  {
   "cell_type": "code",
   "execution_count": null,
   "id": "fc021c01",
   "metadata": {},
   "outputs": [],
   "source": [
    "result_nn.best_score_"
   ]
  },
  {
   "cell_type": "code",
   "execution_count": null,
   "id": "8b5d8256",
   "metadata": {},
   "outputs": [],
   "source": [
    "result_nn.best_params_"
   ]
  },
  {
   "cell_type": "code",
   "execution_count": null,
   "id": "613e6fb4",
   "metadata": {
    "scrolled": true
   },
   "outputs": [],
   "source": [
    "result_nn.cv_results_"
   ]
  },
  {
   "cell_type": "code",
   "execution_count": null,
   "id": "ad4b8334",
   "metadata": {},
   "outputs": [],
   "source": [
    "model = tf.keras.Sequential([\n",
    "    tf.keras.layers.Dense(20, input_shape=(x_train.shape[1],), activation='relu'),\n",
    "    tf.keras.layers.Dense(30, activation='relu'),\n",
    "    tf.keras.layers.Dense(30, activation='relu'),\n",
    "    tf.keras.layers.Dense(1, activation='sigmoid')\n",
    "    ])\n",
    "model.compile(optimizer= 'adam' , \n",
    "             loss='binary_crossentropy',\n",
    "              metrics=['accuracy'])\n",
    "model.fit(x_train , y_train , epochs=10)"
   ]
  },
  {
   "cell_type": "code",
   "execution_count": null,
   "id": "b32bf0d5",
   "metadata": {},
   "outputs": [],
   "source": [
    "predict_n = model.predict(x_test)\n",
    "for i in predict_n : \n",
    "    if i[0] > 0.5 :\n",
    "        i[0] = 1\n",
    "    else :\n",
    "        i[0] =0"
   ]
  },
  {
   "cell_type": "code",
   "execution_count": null,
   "id": "ad39808a",
   "metadata": {},
   "outputs": [],
   "source": [
    "print(classification_report(predict_n , y_test))"
   ]
  },
  {
   "cell_type": "markdown",
   "id": "38c50234",
   "metadata": {},
   "source": [
    "4 - ensemble all the models"
   ]
  },
  {
   "cell_type": "code",
   "execution_count": null,
   "id": "7930bc49",
   "metadata": {},
   "outputs": [],
   "source": [
    "def ensmble_model_predict(testset):\n",
    "    prediction_1 = model.predict(testset)\n",
    "    for i in prediction_1 : \n",
    "        if i[0] > 0.5 :\n",
    "            i[0] = 1\n",
    "        else :\n",
    "            i[0] =0\n",
    "    prediction_2 = clf2random.best_estimator_.predict(testset)\n",
    "    prediction_3 = clf1random.best_estimator_.predict(testset)\n",
    "    final_prediction = []\n",
    "    for i in range(len(prediction_1)):\n",
    "        num = prediction_1[i] + prediction_2[i] + prediction_3[i]\n",
    "        if num >=2 :\n",
    "            final_prediction.append(1)\n",
    "        else :\n",
    "            final_prediction.append(0)\n",
    "    return np.array(final_prediction)       "
   ]
  },
  {
   "cell_type": "code",
   "execution_count": null,
   "id": "917579da",
   "metadata": {},
   "outputs": [],
   "source": [
    "prediction = ensmble_model_predict(x_test)"
   ]
  },
  {
   "cell_type": "code",
   "execution_count": null,
   "id": "70e1652c",
   "metadata": {},
   "outputs": [],
   "source": [
    "print(classification_report(prediction , y_test))"
   ]
  },
  {
   "cell_type": "markdown",
   "id": "d02df818",
   "metadata": {},
   "source": [
    " we see that randomforest doing well better than ensemblemodel"
   ]
  },
  {
   "cell_type": "markdown",
   "id": "90d40e47",
   "metadata": {},
   "source": [
    "# For summary\n",
    "# we will use Random forest classifier as the best model with 88 percent accuracy"
   ]
  },
  {
   "cell_type": "code",
   "execution_count": null,
   "id": "6691fcaf",
   "metadata": {},
   "outputs": [],
   "source": [
    "Our_model = RandomForestClassifier(n_estimators=15 , max_features=8,  min_samples_leaf=7)"
   ]
  },
  {
   "cell_type": "code",
   "execution_count": null,
   "id": "ccc3ebcc",
   "metadata": {},
   "outputs": [],
   "source": [
    "Our_model.fit(x_train , y_train)"
   ]
  },
  {
   "cell_type": "code",
   "execution_count": null,
   "id": "dc42e5d4",
   "metadata": {},
   "outputs": [],
   "source": [
    "prediction = Our_model.predict(x_test)"
   ]
  },
  {
   "cell_type": "code",
   "execution_count": null,
   "id": "54ee71db",
   "metadata": {},
   "outputs": [],
   "source": [
    "print(classification_report(prediction , y_test))"
   ]
  },
  {
   "cell_type": "code",
   "execution_count": null,
   "id": "2bd2e03e",
   "metadata": {},
   "outputs": [],
   "source": [
    "# and those are the independent features \n",
    "x_train.columns"
   ]
  }
 ],
 "metadata": {
  "kernelspec": {
   "display_name": "Python 3 (ipykernel)",
   "language": "python",
   "name": "python3"
  },
  "language_info": {
   "codemirror_mode": {
    "name": "ipython",
    "version": 3
   },
   "file_extension": ".py",
   "mimetype": "text/x-python",
   "name": "python",
   "nbconvert_exporter": "python",
   "pygments_lexer": "ipython3",
   "version": "3.9.7"
  }
 },
 "nbformat": 4,
 "nbformat_minor": 5
}
